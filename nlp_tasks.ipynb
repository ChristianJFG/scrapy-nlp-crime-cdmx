{
 "cells": [
  {
   "cell_type": "markdown",
   "metadata": {},
   "source": [
    "## Libraries"
   ]
  },
  {
   "cell_type": "code",
   "execution_count": 15,
   "metadata": {},
   "outputs": [],
   "source": [
    "import pandas as pd \n",
    "import dateparser\n",
    "import re"
   ]
  },
  {
   "cell_type": "markdown",
   "metadata": {},
   "source": [
    "## Exploration analysis"
   ]
  },
  {
   "cell_type": "code",
   "execution_count": 7,
   "metadata": {},
   "outputs": [
    {
     "data": {
      "text/html": [
       "<div>\n",
       "<style scoped>\n",
       "    .dataframe tbody tr th:only-of-type {\n",
       "        vertical-align: middle;\n",
       "    }\n",
       "\n",
       "    .dataframe tbody tr th {\n",
       "        vertical-align: top;\n",
       "    }\n",
       "\n",
       "    .dataframe thead th {\n",
       "        text-align: right;\n",
       "    }\n",
       "</style>\n",
       "<table border=\"1\" class=\"dataframe\">\n",
       "  <thead>\n",
       "    <tr style=\"text-align: right;\">\n",
       "      <th></th>\n",
       "      <th>url</th>\n",
       "      <th>date</th>\n",
       "      <th>article</th>\n",
       "    </tr>\n",
       "  </thead>\n",
       "  <tbody>\n",
       "    <tr>\n",
       "      <th>0</th>\n",
       "      <td>https://www.la-prensa.com.mx/policiaca/acciden...</td>\n",
       "      <td>jueves 31 de octubre de 2024</td>\n",
       "      <td>biker sobrevive a peligrosa maniobra en la mex...</td>\n",
       "    </tr>\n",
       "    <tr>\n",
       "      <th>1</th>\n",
       "      <td>https://www.la-prensa.com.mx/policiaca/arresta...</td>\n",
       "      <td>lunes 28 de octubre de 2024</td>\n",
       "      <td>arrestan a mujer en la vcarranza acusada de ma...</td>\n",
       "    </tr>\n",
       "    <tr>\n",
       "      <th>2</th>\n",
       "      <td>https://www.la-prensa.com.mx/policiaca/detiene...</td>\n",
       "      <td>martes 5 de noviembre de 2024</td>\n",
       "      <td>detienen a catorce personas luego de tres dias...</td>\n",
       "    </tr>\n",
       "    <tr>\n",
       "      <th>3</th>\n",
       "      <td>https://www.la-prensa.com.mx/policiaca/vincula...</td>\n",
       "      <td>lunes 28 de octubre de 2024</td>\n",
       "      <td>vinculan a proceso a ricardo \"n\" ex funcionari...</td>\n",
       "    </tr>\n",
       "    <tr>\n",
       "      <th>4</th>\n",
       "      <td>https://www.la-prensa.com.mx/policiaca/caen-do...</td>\n",
       "      <td>martes 5 de noviembre de 2024</td>\n",
       "      <td>caen dos con tarjetas de credito presuntamente...</td>\n",
       "    </tr>\n",
       "  </tbody>\n",
       "</table>\n",
       "</div>"
      ],
      "text/plain": [
       "                                                 url  \\\n",
       "0  https://www.la-prensa.com.mx/policiaca/acciden...   \n",
       "1  https://www.la-prensa.com.mx/policiaca/arresta...   \n",
       "2  https://www.la-prensa.com.mx/policiaca/detiene...   \n",
       "3  https://www.la-prensa.com.mx/policiaca/vincula...   \n",
       "4  https://www.la-prensa.com.mx/policiaca/caen-do...   \n",
       "\n",
       "                            date  \\\n",
       "0   jueves 31 de octubre de 2024   \n",
       "1    lunes 28 de octubre de 2024   \n",
       "2  martes 5 de noviembre de 2024   \n",
       "3    lunes 28 de octubre de 2024   \n",
       "4  martes 5 de noviembre de 2024   \n",
       "\n",
       "                                             article  \n",
       "0  biker sobrevive a peligrosa maniobra en la mex...  \n",
       "1  arrestan a mujer en la vcarranza acusada de ma...  \n",
       "2  detienen a catorce personas luego de tres dias...  \n",
       "3  vinculan a proceso a ricardo \"n\" ex funcionari...  \n",
       "4  caen dos con tarjetas de credito presuntamente...  "
      ]
     },
     "execution_count": 7,
     "metadata": {},
     "output_type": "execute_result"
    }
   ],
   "source": [
    "data = pd.read_csv(\"text_data.csv\")\n",
    "data.head()"
   ]
  },
  {
   "cell_type": "code",
   "execution_count": 8,
   "metadata": {},
   "outputs": [
    {
     "name": "stdout",
     "output_type": "stream",
     "text": [
      "<class 'pandas.core.frame.DataFrame'>\n",
      "RangeIndex: 12482 entries, 0 to 12481\n",
      "Data columns (total 3 columns):\n",
      " #   Column   Non-Null Count  Dtype \n",
      "---  ------   --------------  ----- \n",
      " 0   url      12482 non-null  object\n",
      " 1   date     12482 non-null  object\n",
      " 2   article  12482 non-null  object\n",
      "dtypes: object(3)\n",
      "memory usage: 292.7+ KB\n"
     ]
    }
   ],
   "source": [
    "data.info()"
   ]
  },
  {
   "cell_type": "markdown",
   "metadata": {},
   "source": [
    "From spanish and nl date to YYYY-MM-DD"
   ]
  },
  {
   "cell_type": "code",
   "execution_count": null,
   "metadata": {},
   "outputs": [
    {
     "name": "stdout",
     "output_type": "stream",
     "text": [
      "2024-11-05\n"
     ]
    }
   ],
   "source": [
    "\n",
    "date_string = 'martes 5 de noviembre de 2024'\n",
    "date_object = dateparser.parse(date_string)\n",
    "formatted_date = date_object.strftime('%Y-%m-%d')\n",
    "print(formatted_date)  # Output: 2024-10-31\n"
   ]
  },
  {
   "cell_type": "code",
   "execution_count": 24,
   "metadata": {},
   "outputs": [
    {
     "name": "stdout",
     "output_type": "stream",
     "text": [
      "                               date standard_date\n",
      "0      jueves 31 de octubre de 2024    2024-10-31\n",
      "1       lunes 28 de octubre de 2024    2024-10-28\n",
      "2     martes 5 de noviembre de 2024    2024-11-05\n",
      "3       lunes 28 de octubre de 2024    2024-10-28\n",
      "4     martes 5 de noviembre de 2024    2024-11-05\n",
      "5     sábado 2 de noviembre de 2024    2024-11-02\n",
      "6     sábado 2 de noviembre de 2024    2024-11-02\n",
      "7     sábado 2 de noviembre de 2024    2024-11-02\n",
      "8      jueves 31 de octubre de 2024    2024-10-31\n",
      "9    domingo 3 de noviembre de 2024    2024-11-03\n",
      "10    domingo 27 de octubre de 2024    2024-10-27\n",
      "11     martes 22 de octubre de 2024    2024-10-22\n",
      "12     jueves 24 de octubre de 2024    2024-10-24\n",
      "13  miércoles 23 de octubre de 2024    2024-10-23\n",
      "14     jueves 24 de octubre de 2024    2024-10-24\n",
      "15      lunes 21 de octubre de 2024    2024-10-21\n",
      "16    domingo 27 de octubre de 2024    2024-10-27\n",
      "17      lunes 21 de octubre de 2024    2024-10-21\n",
      "18      lunes 21 de octubre de 2024    2024-10-21\n",
      "19     martes 22 de octubre de 2024    2024-10-22\n"
     ]
    },
    {
     "name": "stderr",
     "output_type": "stream",
     "text": [
      "/tmp/ipykernel_280250/1307123335.py:3: SettingWithCopyWarning: \n",
      "A value is trying to be set on a copy of a slice from a DataFrame.\n",
      "Try using .loc[row_indexer,col_indexer] = value instead\n",
      "\n",
      "See the caveats in the documentation: https://pandas.pydata.org/pandas-docs/stable/user_guide/indexing.html#returning-a-view-versus-a-copy\n",
      "  sub_data['standard_date'] = sub_data['date'].apply(lambda x: dateparser.parse(x).strftime('%Y-%m-%d'))\n"
     ]
    }
   ],
   "source": [
    "sub_data = data.head(20)\n",
    "\n",
    "sub_data['standard_date'] = sub_data['date'].apply(lambda x: dateparser.parse(x).strftime('%Y-%m-%d'))\n",
    "\n",
    "print(sub_data[['date', 'standard_date']])"
   ]
  },
  {
   "cell_type": "markdown",
   "metadata": {},
   "source": [
    "Extract the title"
   ]
  },
  {
   "cell_type": "code",
   "execution_count": 26,
   "metadata": {},
   "outputs": [
    {
     "name": "stdout",
     "output_type": "stream",
     "text": [
      "0         biker sobrevive a peligrosa maniobra en la mexico-puebla, pero ve morir a su acompañante\n",
      "1             arrestan a mujer en la vcarranza acusada de matar a un menor en un hecho de transito\n",
      "2                   detienen a catorce personas luego de tres dias de operativos en alvaro obregon\n",
      "3     vinculan a proceso a ricardo \"n\" ex funcionario de la suprema corte de justicia de la nacion\n",
      "4                                           caen dos con tarjetas de credito presuntamente robadas\n",
      "5             policias auxilian a mujer durante una crisis nerviosa en calles del centro historico\n",
      "6                       acribillan a cinco amigos; uno murio y cuatro mas estan heridos, en la gam\n",
      "7                                     policia investiga la muerte de un hombre en forum buenavista\n",
      "8                                                 cae \"el vaca\" tras robo a mano armada en polanco\n",
      "9                                               ultiman a balazos a mujer en \"el hoyo\", iztapalapa\n",
      "10                                   de al menos 32 balazos asesinan a joven en la colonia morelos\n",
      "11                     choque multiple en la autopista mexico - puebla deja al menos 10 lesionados\n",
      "12             riña vecinal en xochimilco termina con un detenido y un cadaver oculto en un tinaco\n",
      "13                           policias van por criminales de las alcaldias cuauhtemoc y v. carranza\n",
      "14         ?que paso en la voca 5? desalojan plantel del ipn por una riña con un estudiante armado\n",
      "15                                      atropellan y matan a mujer en eje central; hay un detenido\n",
      "16                                    caen tres hombres con varias dosis de droga en la cuauhtemoc\n",
      "17                           balacera en el bar \"republica\" en masaryk, polanco, deja un lesionado\n",
      "18           !emergencia en la valle gomez! atrapa maquina de tortillas la mano de una trabajadora\n",
      "19                         para este martes 22 de octubre se esperan 10 manifestaciones en la cdmx\n",
      "Name: title, dtype: object\n"
     ]
    },
    {
     "name": "stderr",
     "output_type": "stream",
     "text": [
      "/tmp/ipykernel_280250/1127950711.py:1: SettingWithCopyWarning: \n",
      "A value is trying to be set on a copy of a slice from a DataFrame.\n",
      "Try using .loc[row_indexer,col_indexer] = value instead\n",
      "\n",
      "See the caveats in the documentation: https://pandas.pydata.org/pandas-docs/stable/user_guide/indexing.html#returning-a-view-versus-a-copy\n",
      "  sub_data['title'] = sub_data['article'].apply(lambda x: re.search(r\"(.+?):\", x).group(1))\n"
     ]
    }
   ],
   "source": [
    "\n",
    "sub_data['title'] = sub_data['article'].apply(lambda x: re.search(r\"(.+?):\", x).group(1))\n",
    "\n",
    "# print the title column completely withou truncation\n",
    "pd.set_option('display.max_colwidth', None)\n",
    "print(sub_data['title'])\n"
   ]
  },
  {
   "cell_type": "code",
   "execution_count": null,
   "metadata": {},
   "outputs": [],
   "source": []
  }
 ],
 "metadata": {
  "kernelspec": {
   "display_name": ".venv",
   "language": "python",
   "name": "python3"
  },
  "language_info": {
   "codemirror_mode": {
    "name": "ipython",
    "version": 3
   },
   "file_extension": ".py",
   "mimetype": "text/x-python",
   "name": "python",
   "nbconvert_exporter": "python",
   "pygments_lexer": "ipython3",
   "version": "3.10.12"
  }
 },
 "nbformat": 4,
 "nbformat_minor": 2
}
