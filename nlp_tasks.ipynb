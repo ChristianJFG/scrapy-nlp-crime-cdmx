{
 "cells": [
  {
   "cell_type": "markdown",
   "metadata": {},
   "source": [
    "## Libraries"
   ]
  },
  {
   "cell_type": "code",
   "execution_count": 1,
   "metadata": {},
   "outputs": [],
   "source": [
    "import pandas as pd \n",
    "import dateparser\n",
    "import re"
   ]
  },
  {
   "cell_type": "markdown",
   "metadata": {},
   "source": [
    "## Exploration analysis"
   ]
  },
  {
   "cell_type": "code",
   "execution_count": 2,
   "metadata": {},
   "outputs": [
    {
     "data": {
      "text/html": [
       "<div>\n",
       "<style scoped>\n",
       "    .dataframe tbody tr th:only-of-type {\n",
       "        vertical-align: middle;\n",
       "    }\n",
       "\n",
       "    .dataframe tbody tr th {\n",
       "        vertical-align: top;\n",
       "    }\n",
       "\n",
       "    .dataframe thead th {\n",
       "        text-align: right;\n",
       "    }\n",
       "</style>\n",
       "<table border=\"1\" class=\"dataframe\">\n",
       "  <thead>\n",
       "    <tr style=\"text-align: right;\">\n",
       "      <th></th>\n",
       "      <th>url</th>\n",
       "      <th>date</th>\n",
       "      <th>article</th>\n",
       "    </tr>\n",
       "  </thead>\n",
       "  <tbody>\n",
       "    <tr>\n",
       "      <th>0</th>\n",
       "      <td>https://www.la-prensa.com.mx/policiaca/acciden...</td>\n",
       "      <td>jueves 31 de octubre de 2024</td>\n",
       "      <td>biker sobrevive a peligrosa maniobra en la mex...</td>\n",
       "    </tr>\n",
       "    <tr>\n",
       "      <th>1</th>\n",
       "      <td>https://www.la-prensa.com.mx/policiaca/arresta...</td>\n",
       "      <td>lunes 28 de octubre de 2024</td>\n",
       "      <td>arrestan a mujer en la vcarranza acusada de ma...</td>\n",
       "    </tr>\n",
       "    <tr>\n",
       "      <th>2</th>\n",
       "      <td>https://www.la-prensa.com.mx/policiaca/detiene...</td>\n",
       "      <td>martes 5 de noviembre de 2024</td>\n",
       "      <td>detienen a catorce personas luego de tres dias...</td>\n",
       "    </tr>\n",
       "    <tr>\n",
       "      <th>3</th>\n",
       "      <td>https://www.la-prensa.com.mx/policiaca/vincula...</td>\n",
       "      <td>lunes 28 de octubre de 2024</td>\n",
       "      <td>vinculan a proceso a ricardo \"n\" ex funcionari...</td>\n",
       "    </tr>\n",
       "    <tr>\n",
       "      <th>4</th>\n",
       "      <td>https://www.la-prensa.com.mx/policiaca/caen-do...</td>\n",
       "      <td>martes 5 de noviembre de 2024</td>\n",
       "      <td>caen dos con tarjetas de credito presuntamente...</td>\n",
       "    </tr>\n",
       "  </tbody>\n",
       "</table>\n",
       "</div>"
      ],
      "text/plain": [
       "                                                 url  \\\n",
       "0  https://www.la-prensa.com.mx/policiaca/acciden...   \n",
       "1  https://www.la-prensa.com.mx/policiaca/arresta...   \n",
       "2  https://www.la-prensa.com.mx/policiaca/detiene...   \n",
       "3  https://www.la-prensa.com.mx/policiaca/vincula...   \n",
       "4  https://www.la-prensa.com.mx/policiaca/caen-do...   \n",
       "\n",
       "                            date  \\\n",
       "0   jueves 31 de octubre de 2024   \n",
       "1    lunes 28 de octubre de 2024   \n",
       "2  martes 5 de noviembre de 2024   \n",
       "3    lunes 28 de octubre de 2024   \n",
       "4  martes 5 de noviembre de 2024   \n",
       "\n",
       "                                             article  \n",
       "0  biker sobrevive a peligrosa maniobra en la mex...  \n",
       "1  arrestan a mujer en la vcarranza acusada de ma...  \n",
       "2  detienen a catorce personas luego de tres dias...  \n",
       "3  vinculan a proceso a ricardo \"n\" ex funcionari...  \n",
       "4  caen dos con tarjetas de credito presuntamente...  "
      ]
     },
     "execution_count": 2,
     "metadata": {},
     "output_type": "execute_result"
    }
   ],
   "source": [
    "data = pd.read_csv(\"text_data.csv\")\n",
    "data.head()"
   ]
  },
  {
   "cell_type": "code",
   "execution_count": 3,
   "metadata": {},
   "outputs": [
    {
     "name": "stdout",
     "output_type": "stream",
     "text": [
      "<class 'pandas.core.frame.DataFrame'>\n",
      "RangeIndex: 12482 entries, 0 to 12481\n",
      "Data columns (total 3 columns):\n",
      " #   Column   Non-Null Count  Dtype \n",
      "---  ------   --------------  ----- \n",
      " 0   url      12482 non-null  object\n",
      " 1   date     12482 non-null  object\n",
      " 2   article  12482 non-null  object\n",
      "dtypes: object(3)\n",
      "memory usage: 292.7+ KB\n"
     ]
    }
   ],
   "source": [
    "data.info()"
   ]
  },
  {
   "cell_type": "markdown",
   "metadata": {},
   "source": [
    "From spanish and nl date to YYYY-MM-DD"
   ]
  },
  {
   "cell_type": "code",
   "execution_count": 4,
   "metadata": {},
   "outputs": [
    {
     "name": "stdout",
     "output_type": "stream",
     "text": [
      "2024-11-05\n"
     ]
    }
   ],
   "source": [
    "\n",
    "date_string = 'martes 5 de noviembre de 2024'\n",
    "date_object = dateparser.parse(date_string)\n",
    "formatted_date = date_object.strftime('%Y-%m-%d')\n",
    "print(formatted_date)  # Output: 2024-10-31\n"
   ]
  },
  {
   "cell_type": "code",
   "execution_count": 5,
   "metadata": {},
   "outputs": [
    {
     "name": "stdout",
     "output_type": "stream",
     "text": [
      "                               date standard_date\n",
      "0      jueves 31 de octubre de 2024    2024-10-31\n",
      "1       lunes 28 de octubre de 2024    2024-10-28\n",
      "2     martes 5 de noviembre de 2024    2024-11-05\n",
      "3       lunes 28 de octubre de 2024    2024-10-28\n",
      "4     martes 5 de noviembre de 2024    2024-11-05\n",
      "5     sábado 2 de noviembre de 2024    2024-11-02\n",
      "6     sábado 2 de noviembre de 2024    2024-11-02\n",
      "7     sábado 2 de noviembre de 2024    2024-11-02\n",
      "8      jueves 31 de octubre de 2024    2024-10-31\n",
      "9    domingo 3 de noviembre de 2024    2024-11-03\n",
      "10    domingo 27 de octubre de 2024    2024-10-27\n",
      "11     martes 22 de octubre de 2024    2024-10-22\n",
      "12     jueves 24 de octubre de 2024    2024-10-24\n",
      "13  miércoles 23 de octubre de 2024    2024-10-23\n",
      "14     jueves 24 de octubre de 2024    2024-10-24\n",
      "15      lunes 21 de octubre de 2024    2024-10-21\n",
      "16    domingo 27 de octubre de 2024    2024-10-27\n",
      "17      lunes 21 de octubre de 2024    2024-10-21\n",
      "18      lunes 21 de octubre de 2024    2024-10-21\n",
      "19     martes 22 de octubre de 2024    2024-10-22\n"
     ]
    },
    {
     "name": "stderr",
     "output_type": "stream",
     "text": [
      "/tmp/ipykernel_330997/1307123335.py:3: SettingWithCopyWarning: \n",
      "A value is trying to be set on a copy of a slice from a DataFrame.\n",
      "Try using .loc[row_indexer,col_indexer] = value instead\n",
      "\n",
      "See the caveats in the documentation: https://pandas.pydata.org/pandas-docs/stable/user_guide/indexing.html#returning-a-view-versus-a-copy\n",
      "  sub_data['standard_date'] = sub_data['date'].apply(lambda x: dateparser.parse(x).strftime('%Y-%m-%d'))\n"
     ]
    }
   ],
   "source": [
    "sub_data = data.head(20)\n",
    "\n",
    "sub_data['standard_date'] = sub_data['date'].apply(lambda x: dateparser.parse(x).strftime('%Y-%m-%d'))\n",
    "\n",
    "print(sub_data[['date', 'standard_date']])"
   ]
  },
  {
   "cell_type": "markdown",
   "metadata": {},
   "source": [
    "Extract the title"
   ]
  },
  {
   "cell_type": "code",
   "execution_count": 6,
   "metadata": {},
   "outputs": [
    {
     "name": "stdout",
     "output_type": "stream",
     "text": [
      "0     biker sobrevive a peligrosa maniobra en la mex...\n",
      "1     arrestan a mujer en la vcarranza acusada de ma...\n",
      "2     detienen a catorce personas luego de tres dias...\n",
      "3     vinculan a proceso a ricardo \"n\" ex funcionari...\n",
      "4     caen dos con tarjetas de credito presuntamente...\n",
      "5     policias auxilian a mujer durante una crisis n...\n",
      "6     acribillan a cinco amigos; uno murio y cuatro ...\n",
      "7     policia investiga la muerte de un hombre en fo...\n",
      "8      cae \"el vaca\" tras robo a mano armada en polanco\n",
      "9     ultiman a balazos a mujer en \"el hoyo\", iztapa...\n",
      "10    de al menos 32 balazos asesinan a joven en la ...\n",
      "11    choque multiple en la autopista mexico - puebl...\n",
      "12    riña vecinal en xochimilco termina con un dete...\n",
      "13    policias van por criminales de las alcaldias c...\n",
      "14    ?que paso en la voca 5? desalojan plantel del ...\n",
      "15    atropellan y matan a mujer en eje central; hay...\n",
      "16    caen tres hombres con varias dosis de droga en...\n",
      "17    balacera en el bar \"republica\" en masaryk, pol...\n",
      "18    !emergencia en la valle gomez! atrapa maquina ...\n",
      "19    para este martes 22 de octubre se esperan 10 m...\n",
      "Name: title, dtype: object\n"
     ]
    },
    {
     "name": "stderr",
     "output_type": "stream",
     "text": [
      "/tmp/ipykernel_330997/768302750.py:1: SettingWithCopyWarning: \n",
      "A value is trying to be set on a copy of a slice from a DataFrame.\n",
      "Try using .loc[row_indexer,col_indexer] = value instead\n",
      "\n",
      "See the caveats in the documentation: https://pandas.pydata.org/pandas-docs/stable/user_guide/indexing.html#returning-a-view-versus-a-copy\n",
      "  sub_data['title'] = sub_data['article'].apply(lambda x: re.search(r\"(.+?):\", x).group(1))\n"
     ]
    }
   ],
   "source": [
    "\n",
    "sub_data['title'] = sub_data['article'].apply(lambda x: re.search(r\"(.+?):\", x).group(1))\n",
    "\n",
    "# print the title column completely withou truncation\n",
    "print(sub_data['title'])\n"
   ]
  },
  {
   "cell_type": "code",
   "execution_count": 7,
   "metadata": {},
   "outputs": [
    {
     "name": "stderr",
     "output_type": "stream",
     "text": [
      "/home/christian/taller/crime-prediction-monitoring-cdmx/.venv/lib/python3.10/site-packages/tqdm/auto.py:21: TqdmWarning: IProgress not found. Please update jupyter and ipywidgets. See https://ipywidgets.readthedocs.io/en/stable/user_install.html\n",
      "  from .autonotebook import tqdm as notebook_tqdm\n",
      "Some weights of the model checkpoint at joeddav/xlm-roberta-large-xnli were not used when initializing XLMRobertaForSequenceClassification: ['roberta.pooler.dense.bias', 'roberta.pooler.dense.weight']\n",
      "- This IS expected if you are initializing XLMRobertaForSequenceClassification from the checkpoint of a model trained on another task or with another architecture (e.g. initializing a BertForSequenceClassification model from a BertForPreTraining model).\n",
      "- This IS NOT expected if you are initializing XLMRobertaForSequenceClassification from the checkpoint of a model that you expect to be exactly identical (initializing a BertForSequenceClassification model from a BertForSequenceClassification model).\n"
     ]
    }
   ],
   "source": [
    "from transformers import pipeline, AutoTokenizer, AutoModelForSequenceClassification\n",
    "\n",
    "# Load the model and tokenizer explicitly\n",
    "tokenizer = AutoTokenizer.from_pretrained(\"joeddav/xlm-roberta-large-xnli\", use_fast=False)\n",
    "model = AutoModelForSequenceClassification.from_pretrained(\"joeddav/xlm-roberta-large-xnli\")\n",
    "\n",
    "# Create the pipeline with the specified tokenizer and model\n",
    "classifier = pipeline(task=\"zero-shot-classification\", model=model, tokenizer=tokenizer, device=0)"
   ]
  },
  {
   "cell_type": "markdown",
   "metadata": {},
   "source": [
    "Fuction that classify the news "
   ]
  },
  {
   "cell_type": "code",
   "execution_count": 8,
   "metadata": {},
   "outputs": [],
   "source": [
    "def crime_classifier(text):\n",
    "    labels = [\"delito violento\", \"otro\"]\n",
    "    return classifier(text, labels)[\"labels\"][0] == labels[0]"
   ]
  },
  {
   "cell_type": "code",
   "execution_count": 9,
   "metadata": {},
   "outputs": [
    {
     "name": "stderr",
     "output_type": "stream",
     "text": [
      "You seem to be using the pipelines sequentially on GPU. In order to maximize efficiency please use a dataset\n"
     ]
    },
    {
     "name": "stdout",
     "output_type": "stream",
     "text": [
      "0    arrestan a mujer en la vcarranza acusada de ma...\n",
      "1    acribillan a cinco amigos; uno murio y cuatro ...\n",
      "2     cae \"el vaca\" tras robo a mano armada en polanco\n",
      "3    ultiman a balazos a mujer en \"el hoyo\", iztapa...\n",
      "4    de al menos 32 balazos asesinan a joven en la ...\n",
      "5    riña vecinal en xochimilco termina con un dete...\n",
      "6    ?que paso en la voca 5? desalojan plantel del ...\n",
      "7    atropellan y matan a mujer en eje central; hay...\n",
      "8    balacera en el bar \"republica\" en masaryk, pol...\n",
      "Name: title, dtype: object\n"
     ]
    }
   ],
   "source": [
    "data_filtered = sub_data[sub_data['title'].apply(crime_classifier)]\n",
    "# reset the index of the filtered data\n",
    "data_filtered.reset_index(drop=True, inplace=True)\n",
    "print(data_filtered['title'])"
   ]
  },
  {
   "cell_type": "code",
   "execution_count": 10,
   "metadata": {},
   "outputs": [
    {
     "data": {
      "text/html": [
       "<div>\n",
       "<style scoped>\n",
       "    .dataframe tbody tr th:only-of-type {\n",
       "        vertical-align: middle;\n",
       "    }\n",
       "\n",
       "    .dataframe tbody tr th {\n",
       "        vertical-align: top;\n",
       "    }\n",
       "\n",
       "    .dataframe thead th {\n",
       "        text-align: right;\n",
       "    }\n",
       "</style>\n",
       "<table border=\"1\" class=\"dataframe\">\n",
       "  <thead>\n",
       "    <tr style=\"text-align: right;\">\n",
       "      <th></th>\n",
       "      <th>url</th>\n",
       "      <th>date</th>\n",
       "      <th>article</th>\n",
       "      <th>standard_date</th>\n",
       "      <th>title</th>\n",
       "    </tr>\n",
       "  </thead>\n",
       "  <tbody>\n",
       "    <tr>\n",
       "      <th>0</th>\n",
       "      <td>https://www.la-prensa.com.mx/policiaca/acciden...</td>\n",
       "      <td>jueves 31 de octubre de 2024</td>\n",
       "      <td>biker sobrevive a peligrosa maniobra en la mex...</td>\n",
       "      <td>2024-10-31</td>\n",
       "      <td>biker sobrevive a peligrosa maniobra en la mex...</td>\n",
       "    </tr>\n",
       "    <tr>\n",
       "      <th>1</th>\n",
       "      <td>https://www.la-prensa.com.mx/policiaca/arresta...</td>\n",
       "      <td>lunes 28 de octubre de 2024</td>\n",
       "      <td>arrestan a mujer en la vcarranza acusada de ma...</td>\n",
       "      <td>2024-10-28</td>\n",
       "      <td>arrestan a mujer en la vcarranza acusada de ma...</td>\n",
       "    </tr>\n",
       "    <tr>\n",
       "      <th>2</th>\n",
       "      <td>https://www.la-prensa.com.mx/policiaca/detiene...</td>\n",
       "      <td>martes 5 de noviembre de 2024</td>\n",
       "      <td>detienen a catorce personas luego de tres dias...</td>\n",
       "      <td>2024-11-05</td>\n",
       "      <td>detienen a catorce personas luego de tres dias...</td>\n",
       "    </tr>\n",
       "    <tr>\n",
       "      <th>3</th>\n",
       "      <td>https://www.la-prensa.com.mx/policiaca/vincula...</td>\n",
       "      <td>lunes 28 de octubre de 2024</td>\n",
       "      <td>vinculan a proceso a ricardo \"n\" ex funcionari...</td>\n",
       "      <td>2024-10-28</td>\n",
       "      <td>vinculan a proceso a ricardo \"n\" ex funcionari...</td>\n",
       "    </tr>\n",
       "    <tr>\n",
       "      <th>4</th>\n",
       "      <td>https://www.la-prensa.com.mx/policiaca/caen-do...</td>\n",
       "      <td>martes 5 de noviembre de 2024</td>\n",
       "      <td>caen dos con tarjetas de credito presuntamente...</td>\n",
       "      <td>2024-11-05</td>\n",
       "      <td>caen dos con tarjetas de credito presuntamente...</td>\n",
       "    </tr>\n",
       "  </tbody>\n",
       "</table>\n",
       "</div>"
      ],
      "text/plain": [
       "                                                 url  \\\n",
       "0  https://www.la-prensa.com.mx/policiaca/acciden...   \n",
       "1  https://www.la-prensa.com.mx/policiaca/arresta...   \n",
       "2  https://www.la-prensa.com.mx/policiaca/detiene...   \n",
       "3  https://www.la-prensa.com.mx/policiaca/vincula...   \n",
       "4  https://www.la-prensa.com.mx/policiaca/caen-do...   \n",
       "\n",
       "                            date  \\\n",
       "0   jueves 31 de octubre de 2024   \n",
       "1    lunes 28 de octubre de 2024   \n",
       "2  martes 5 de noviembre de 2024   \n",
       "3    lunes 28 de octubre de 2024   \n",
       "4  martes 5 de noviembre de 2024   \n",
       "\n",
       "                                             article standard_date  \\\n",
       "0  biker sobrevive a peligrosa maniobra en la mex...    2024-10-31   \n",
       "1  arrestan a mujer en la vcarranza acusada de ma...    2024-10-28   \n",
       "2  detienen a catorce personas luego de tres dias...    2024-11-05   \n",
       "3  vinculan a proceso a ricardo \"n\" ex funcionari...    2024-10-28   \n",
       "4  caen dos con tarjetas de credito presuntamente...    2024-11-05   \n",
       "\n",
       "                                               title  \n",
       "0  biker sobrevive a peligrosa maniobra en la mex...  \n",
       "1  arrestan a mujer en la vcarranza acusada de ma...  \n",
       "2  detienen a catorce personas luego de tres dias...  \n",
       "3  vinculan a proceso a ricardo \"n\" ex funcionari...  \n",
       "4  caen dos con tarjetas de credito presuntamente...  "
      ]
     },
     "execution_count": 10,
     "metadata": {},
     "output_type": "execute_result"
    }
   ],
   "source": [
    "sub_data.head()"
   ]
  }
 ],
 "metadata": {
  "kernelspec": {
   "display_name": ".venv",
   "language": "python",
   "name": "python3"
  },
  "language_info": {
   "codemirror_mode": {
    "name": "ipython",
    "version": 3
   },
   "file_extension": ".py",
   "mimetype": "text/x-python",
   "name": "python",
   "nbconvert_exporter": "python",
   "pygments_lexer": "ipython3",
   "version": "3.10.12"
  }
 },
 "nbformat": 4,
 "nbformat_minor": 2
}
